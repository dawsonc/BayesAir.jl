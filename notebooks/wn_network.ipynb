{
 "cells": [
  {
   "cell_type": "code",
   "execution_count": 22,
   "metadata": {},
   "outputs": [
    {
     "name": "stderr",
     "output_type": "stream",
     "text": [
      "\u001b[32m\u001b[1m  Activating\u001b[22m\u001b[39m project at `~/src/mit/BayesAir.jl`\n"
     ]
    }
   ],
   "source": [
    "using Pkg\n",
    "Pkg.activate(\"..\")\n",
    "using Revise\n",
    "using Gen\n",
    "using DataFrames\n",
    "using Logging\n",
    "using Plots"
   ]
  },
  {
   "cell_type": "code",
   "execution_count": 23,
   "metadata": {},
   "outputs": [],
   "source": [
    "using BayesAir"
   ]
  },
  {
   "cell_type": "code",
   "execution_count": 31,
   "metadata": {},
   "outputs": [],
   "source": [
    "# Load data and preprocess\n",
    "df = BayesAir.load_all_data()\n",
    "df = BayesAir.remap_columns(df)\n",
    "filtered_df = BayesAir.top_N_df(df, 6)\n",
    "nominal_df, disrupted_df = BayesAir.split_nominal_disrupted_data(filtered_df)\n",
    "nominal_dfs = BayesAir.split_by_date(nominal_df)\n",
    "disrupted_dfs = BayesAir.split_by_date(disrupted_df);"
   ]
  },
  {
   "cell_type": "code",
   "execution_count": 35,
   "metadata": {},
   "outputs": [
    {
     "data": {
      "text/html": [
       "<div><div style = \"float: left;\"><span>1164×8 SubDataFrame</span></div><div style = \"float: right;\"><span style = \"font-style: italic;\">1139 rows omitted</span></div><div style = \"clear: both;\"></div></div><div class = \"data-frame\" style = \"overflow-x: scroll;\"><table class = \"data-frame\" style = \"margin-bottom: 6px;\"><thead><tr class = \"header\"><th class = \"rowNumber\" style = \"font-weight: bold; text-align: right;\">Row</th><th style = \"text-align: left;\">destination_airport</th><th style = \"text-align: left;\">scheduled_arrival_time</th><th style = \"text-align: left;\">actual_departure_time</th><th style = \"text-align: left;\">scheduled_departure_time</th><th style = \"text-align: left;\">actual_arrival_time</th><th style = \"text-align: left;\">date</th><th style = \"text-align: left;\">flight_number</th><th style = \"text-align: left;\">origin_airport</th></tr><tr class = \"subheader headerLastRow\"><th class = \"rowNumber\" style = \"font-weight: bold; text-align: right;\"></th><th title = \"InlineStrings.String3\" style = \"text-align: left;\">String3</th><th title = \"Float64\" style = \"text-align: left;\">Float64</th><th title = \"Float64\" style = \"text-align: left;\">Float64</th><th title = \"Float64\" style = \"text-align: left;\">Float64</th><th title = \"Float64\" style = \"text-align: left;\">Float64</th><th title = \"Dates.DateTime\" style = \"text-align: left;\">DateTime</th><th title = \"Int64\" style = \"text-align: left;\">Int64</th><th title = \"InlineStrings.String3\" style = \"text-align: left;\">String3</th></tr></thead><tbody><tr><td class = \"rowNumber\" style = \"font-weight: bold; text-align: right;\">1</td><td style = \"text-align: left;\">MDW</td><td style = \"text-align: right;\">8.33333</td><td style = \"text-align: right;\">4.98333</td><td style = \"text-align: right;\">5.0</td><td style = \"text-align: right;\">8.11667</td><td style = \"text-align: left;\">2022-12-01T00:00:00</td><td style = \"text-align: right;\">2810</td><td style = \"text-align: left;\">DEN</td></tr><tr><td class = \"rowNumber\" style = \"font-weight: bold; text-align: right;\">2</td><td style = \"text-align: left;\">DEN</td><td style = \"text-align: right;\">7.08333</td><td style = \"text-align: right;\">5.05</td><td style = \"text-align: right;\">5.0</td><td style = \"text-align: right;\">6.9</td><td style = \"text-align: left;\">2022-12-01T00:00:00</td><td style = \"text-align: right;\">2703</td><td style = \"text-align: left;\">TPA</td></tr><tr><td class = \"rowNumber\" style = \"font-weight: bold; text-align: right;\">3</td><td style = \"text-align: left;\">PHX</td><td style = \"text-align: right;\">8.16667</td><td style = \"text-align: right;\">5.05</td><td style = \"text-align: right;\">5.08333</td><td style = \"text-align: right;\">8.1</td><td style = \"text-align: left;\">2022-12-01T00:00:00</td><td style = \"text-align: right;\">2473</td><td style = \"text-align: left;\">MKE</td></tr><tr><td class = \"rowNumber\" style = \"font-weight: bold; text-align: right;\">4</td><td style = \"text-align: left;\">PHX</td><td style = \"text-align: right;\">8.25</td><td style = \"text-align: right;\">5.26667</td><td style = \"text-align: right;\">5.16667</td><td style = \"text-align: right;\">8.33333</td><td style = \"text-align: left;\">2022-12-01T00:00:00</td><td style = \"text-align: right;\">2430</td><td style = \"text-align: left;\">BNA</td></tr><tr><td class = \"rowNumber\" style = \"font-weight: bold; text-align: right;\">5</td><td style = \"text-align: left;\">DAL</td><td style = \"text-align: right;\">8.25</td><td style = \"text-align: right;\">5.26667</td><td style = \"text-align: right;\">5.25</td><td style = \"text-align: right;\">7.98333</td><td style = \"text-align: left;\">2022-12-01T00:00:00</td><td style = \"text-align: right;\">852</td><td style = \"text-align: left;\">DEN</td></tr><tr><td class = \"rowNumber\" style = \"font-weight: bold; text-align: right;\">6</td><td style = \"text-align: left;\">DEN</td><td style = \"text-align: right;\">6.83333</td><td style = \"text-align: right;\">5.33333</td><td style = \"text-align: right;\">5.25</td><td style = \"text-align: right;\">6.71667</td><td style = \"text-align: left;\">2022-12-01T00:00:00</td><td style = \"text-align: right;\">441</td><td style = \"text-align: left;\">HOU</td></tr><tr><td class = \"rowNumber\" style = \"font-weight: bold; text-align: right;\">7</td><td style = \"text-align: left;\">DAL</td><td style = \"text-align: right;\">6.5</td><td style = \"text-align: right;\">5.15</td><td style = \"text-align: right;\">5.25</td><td style = \"text-align: right;\">6.15</td><td style = \"text-align: left;\">2022-12-01T00:00:00</td><td style = \"text-align: right;\">3457</td><td style = \"text-align: left;\">MAF</td></tr><tr><td class = \"rowNumber\" style = \"font-weight: bold; text-align: right;\">8</td><td style = \"text-align: left;\">PHX</td><td style = \"text-align: right;\">8.25</td><td style = \"text-align: right;\">5.18333</td><td style = \"text-align: right;\">5.25</td><td style = \"text-align: right;\">8.06667</td><td style = \"text-align: left;\">2022-12-01T00:00:00</td><td style = \"text-align: right;\">992</td><td style = \"text-align: left;\">MDW</td></tr><tr><td class = \"rowNumber\" style = \"font-weight: bold; text-align: right;\">9</td><td style = \"text-align: left;\">PHX</td><td style = \"text-align: right;\">8.0</td><td style = \"text-align: right;\">5.25</td><td style = \"text-align: right;\">5.25</td><td style = \"text-align: right;\">8.0</td><td style = \"text-align: left;\">2022-12-01T00:00:00</td><td style = \"text-align: right;\">1756</td><td style = \"text-align: left;\">MSP</td></tr><tr><td class = \"rowNumber\" style = \"font-weight: bold; text-align: right;\">10</td><td style = \"text-align: left;\">PHX</td><td style = \"text-align: right;\">7.41667</td><td style = \"text-align: right;\">5.28333</td><td style = \"text-align: right;\">5.33333</td><td style = \"text-align: right;\">7.18333</td><td style = \"text-align: left;\">2022-12-01T00:00:00</td><td style = \"text-align: right;\">883</td><td style = \"text-align: left;\">DEN</td></tr><tr><td class = \"rowNumber\" style = \"font-weight: bold; text-align: right;\">11</td><td style = \"text-align: left;\">LAS</td><td style = \"text-align: right;\">7.75</td><td style = \"text-align: right;\">5.28333</td><td style = \"text-align: right;\">5.33333</td><td style = \"text-align: right;\">7.61667</td><td style = \"text-align: left;\">2022-12-01T00:00:00</td><td style = \"text-align: right;\">2726</td><td style = \"text-align: left;\">GEG</td></tr><tr><td class = \"rowNumber\" style = \"font-weight: bold; text-align: right;\">12</td><td style = \"text-align: left;\">LAS</td><td style = \"text-align: right;\">6.58333</td><td style = \"text-align: right;\">5.3</td><td style = \"text-align: right;\">5.33333</td><td style = \"text-align: right;\">6.58333</td><td style = \"text-align: left;\">2022-12-01T00:00:00</td><td style = \"text-align: right;\">1742</td><td style = \"text-align: left;\">HOU</td></tr><tr><td class = \"rowNumber\" style = \"font-weight: bold; text-align: right;\">13</td><td style = \"text-align: left;\">DEN</td><td style = \"text-align: right;\">8.25</td><td style = \"text-align: right;\">5.26667</td><td style = \"text-align: right;\">5.33333</td><td style = \"text-align: right;\">7.81667</td><td style = \"text-align: left;\">2022-12-01T00:00:00</td><td style = \"text-align: right;\">739</td><td style = \"text-align: left;\">LAS</td></tr><tr><td style = \"text-align: right;\">&vellip;</td><td style = \"text-align: right;\">&vellip;</td><td style = \"text-align: right;\">&vellip;</td><td style = \"text-align: right;\">&vellip;</td><td style = \"text-align: right;\">&vellip;</td><td style = \"text-align: right;\">&vellip;</td><td style = \"text-align: right;\">&vellip;</td><td style = \"text-align: right;\">&vellip;</td><td style = \"text-align: right;\">&vellip;</td></tr><tr><td class = \"rowNumber\" style = \"font-weight: bold; text-align: right;\">1153</td><td style = \"text-align: left;\">PHX</td><td style = \"text-align: right;\">0.916667</td><td style = \"text-align: right;\">21.8167</td><td style = \"text-align: right;\">21.9167</td><td style = \"text-align: right;\">0.733333</td><td style = \"text-align: left;\">2022-12-01T00:00:00</td><td style = \"text-align: right;\">2860</td><td style = \"text-align: left;\">BNA</td></tr><tr><td class = \"rowNumber\" style = \"font-weight: bold; text-align: right;\">1154</td><td style = \"text-align: left;\">LAS</td><td style = \"text-align: right;\">23.1667</td><td style = \"text-align: right;\">21.9833</td><td style = \"text-align: right;\">22.0</td><td style = \"text-align: right;\">23.1167</td><td style = \"text-align: left;\">2022-12-01T00:00:00</td><td style = \"text-align: right;\">5845</td><td style = \"text-align: left;\">SAN</td></tr><tr><td class = \"rowNumber\" style = \"font-weight: bold; text-align: right;\">1155</td><td style = \"text-align: left;\">PHX</td><td style = \"text-align: right;\">0.166667</td><td style = \"text-align: right;\">22.4667</td><td style = \"text-align: right;\">22.0</td><td style = \"text-align: right;\">0.5</td><td style = \"text-align: left;\">2022-12-01T00:00:00</td><td style = \"text-align: right;\">3688</td><td style = \"text-align: left;\">SAN</td></tr><tr><td class = \"rowNumber\" style = \"font-weight: bold; text-align: right;\">1156</td><td style = \"text-align: left;\">DEN</td><td style = \"text-align: right;\">23.3333</td><td style = \"text-align: right;\">22.0</td><td style = \"text-align: right;\">22.0</td><td style = \"text-align: right;\">23.1167</td><td style = \"text-align: left;\">2022-12-01T00:00:00</td><td style = \"text-align: right;\">136</td><td style = \"text-align: left;\">SLC</td></tr><tr><td class = \"rowNumber\" style = \"font-weight: bold; text-align: right;\">1157</td><td style = \"text-align: left;\">DEN</td><td style = \"text-align: right;\">23.6667</td><td style = \"text-align: right;\">22.0167</td><td style = \"text-align: right;\">22.0833</td><td style = \"text-align: right;\">23.4667</td><td style = \"text-align: left;\">2022-12-01T00:00:00</td><td style = \"text-align: right;\">1499</td><td style = \"text-align: left;\">HOU</td></tr><tr><td class = \"rowNumber\" style = \"font-weight: bold; text-align: right;\">1158</td><td style = \"text-align: left;\">LAS</td><td style = \"text-align: right;\">23.5</td><td style = \"text-align: right;\">22.3833</td><td style = \"text-align: right;\">22.0833</td><td style = \"text-align: right;\">23.6</td><td style = \"text-align: left;\">2022-12-01T00:00:00</td><td style = \"text-align: right;\">2976</td><td style = \"text-align: left;\">SJC</td></tr><tr><td class = \"rowNumber\" style = \"font-weight: bold; text-align: right;\">1159</td><td style = \"text-align: left;\">DEN</td><td style = \"text-align: right;\">23.5</td><td style = \"text-align: right;\">21.9667</td><td style = \"text-align: right;\">22.0833</td><td style = \"text-align: right;\">23.3</td><td style = \"text-align: left;\">2022-12-01T00:00:00</td><td style = \"text-align: right;\">719</td><td style = \"text-align: left;\">STL</td></tr><tr><td class = \"rowNumber\" style = \"font-weight: bold; text-align: right;\">1160</td><td style = \"text-align: left;\">BWI</td><td style = \"text-align: right;\">23.8333</td><td style = \"text-align: right;\">22.3</td><td style = \"text-align: right;\">22.0833</td><td style = \"text-align: right;\">23.8167</td><td style = \"text-align: left;\">2022-12-01T00:00:00</td><td style = \"text-align: right;\">239</td><td style = \"text-align: left;\">ATL</td></tr><tr><td class = \"rowNumber\" style = \"font-weight: bold; text-align: right;\">1161</td><td style = \"text-align: left;\">LAS</td><td style = \"text-align: right;\">23.0</td><td style = \"text-align: right;\">22.4667</td><td style = \"text-align: right;\">22.0833</td><td style = \"text-align: right;\">23.3833</td><td style = \"text-align: left;\">2022-12-01T00:00:00</td><td style = \"text-align: right;\">2741</td><td style = \"text-align: left;\">AUS</td></tr><tr><td class = \"rowNumber\" style = \"font-weight: bold; text-align: right;\">1162</td><td style = \"text-align: left;\">LAS</td><td style = \"text-align: right;\">23.0833</td><td style = \"text-align: right;\">22.4</td><td style = \"text-align: right;\">22.1667</td><td style = \"text-align: right;\">23.3667</td><td style = \"text-align: left;\">2022-12-01T00:00:00</td><td style = \"text-align: right;\">920</td><td style = \"text-align: left;\">DEN</td></tr><tr><td class = \"rowNumber\" style = \"font-weight: bold; text-align: right;\">1163</td><td style = \"text-align: left;\">DEN</td><td style = \"text-align: right;\">23.4167</td><td style = \"text-align: right;\">21.9667</td><td style = \"text-align: right;\">22.1667</td><td style = \"text-align: right;\">23.1333</td><td style = \"text-align: left;\">2022-12-01T00:00:00</td><td style = \"text-align: right;\">253</td><td style = \"text-align: left;\">AUS</td></tr><tr><td class = \"rowNumber\" style = \"font-weight: bold; text-align: right;\">1164</td><td style = \"text-align: left;\">MDW</td><td style = \"text-align: right;\">0.333333</td><td style = \"text-align: right;\">22.5833</td><td style = \"text-align: right;\">22.5833</td><td style = \"text-align: right;\">0.366667</td><td style = \"text-align: left;\">2022-12-01T00:00:00</td><td style = \"text-align: right;\">380</td><td style = \"text-align: left;\">MCO</td></tr></tbody></table></div>"
      ],
      "text/latex": [
       "\\begin{tabular}{r|ccccc}\n",
       "\t& destination\\_airport & scheduled\\_arrival\\_time & actual\\_departure\\_time & scheduled\\_departure\\_time & \\\\\n",
       "\t\\hline\n",
       "\t& String3 & Float64 & Float64 & Float64 & \\\\\n",
       "\t\\hline\n",
       "\t1 & MDW & 8.33333 & 4.98333 & 5.0 & $\\dots$ \\\\\n",
       "\t2 & DEN & 7.08333 & 5.05 & 5.0 & $\\dots$ \\\\\n",
       "\t3 & PHX & 8.16667 & 5.05 & 5.08333 & $\\dots$ \\\\\n",
       "\t4 & PHX & 8.25 & 5.26667 & 5.16667 & $\\dots$ \\\\\n",
       "\t5 & DAL & 8.25 & 5.26667 & 5.25 & $\\dots$ \\\\\n",
       "\t6 & DEN & 6.83333 & 5.33333 & 5.25 & $\\dots$ \\\\\n",
       "\t7 & DAL & 6.5 & 5.15 & 5.25 & $\\dots$ \\\\\n",
       "\t8 & PHX & 8.25 & 5.18333 & 5.25 & $\\dots$ \\\\\n",
       "\t9 & PHX & 8.0 & 5.25 & 5.25 & $\\dots$ \\\\\n",
       "\t10 & PHX & 7.41667 & 5.28333 & 5.33333 & $\\dots$ \\\\\n",
       "\t11 & LAS & 7.75 & 5.28333 & 5.33333 & $\\dots$ \\\\\n",
       "\t12 & LAS & 6.58333 & 5.3 & 5.33333 & $\\dots$ \\\\\n",
       "\t13 & DEN & 8.25 & 5.26667 & 5.33333 & $\\dots$ \\\\\n",
       "\t14 & DAL & 10.5 & 5.28333 & 5.33333 & $\\dots$ \\\\\n",
       "\t15 & MDW & 6.58333 & 5.3 & 5.33333 & $\\dots$ \\\\\n",
       "\t16 & MDW & 6.5 & 5.3 & 5.33333 & $\\dots$ \\\\\n",
       "\t17 & BWI & 6.91667 & 5.31667 & 5.41667 & $\\dots$ \\\\\n",
       "\t18 & MDW & 10.8333 & 5.36667 & 5.41667 & $\\dots$ \\\\\n",
       "\t19 & DEN & 8.91667 & 5.41667 & 5.41667 & $\\dots$ \\\\\n",
       "\t20 & DEN & 7.91667 & 5.43333 & 5.41667 & $\\dots$ \\\\\n",
       "\t21 & DEN & 7.41667 & 5.38333 & 5.41667 & $\\dots$ \\\\\n",
       "\t22 & DAL & 8.75 & 5.38333 & 5.41667 & $\\dots$ \\\\\n",
       "\t23 & DEN & 7.25 & 5.4 & 5.41667 & $\\dots$ \\\\\n",
       "\t24 & BWI & 7.66667 & 5.33333 & 5.41667 & $\\dots$ \\\\\n",
       "\t$\\dots$ & $\\dots$ & $\\dots$ & $\\dots$ & $\\dots$ &  \\\\\n",
       "\\end{tabular}\n"
      ],
      "text/plain": [
       "\u001b[1m1164×8 SubDataFrame\u001b[0m\n",
       "\u001b[1m  Row \u001b[0m│\u001b[1m destination_airport \u001b[0m\u001b[1m scheduled_arrival_time \u001b[0m\u001b[1m actual_departure_time \u001b[0m\u001b[1m sc\u001b[0m ⋯\n",
       "      │\u001b[90m String3             \u001b[0m\u001b[90m Float64                \u001b[0m\u001b[90m Float64               \u001b[0m\u001b[90m Fl\u001b[0m ⋯\n",
       "──────┼─────────────────────────────────────────────────────────────────────────\n",
       "    1 │ MDW                                8.33333                 4.98333     ⋯\n",
       "    2 │ DEN                                7.08333                 5.05\n",
       "    3 │ PHX                                8.16667                 5.05\n",
       "    4 │ PHX                                8.25                    5.26667\n",
       "    5 │ DAL                                8.25                    5.26667     ⋯\n",
       "    6 │ DEN                                6.83333                 5.33333\n",
       "    7 │ DAL                                6.5                     5.15\n",
       "    8 │ PHX                                8.25                    5.18333\n",
       "  ⋮   │          ⋮                     ⋮                       ⋮               ⋱\n",
       " 1158 │ LAS                               23.5                    22.3833      ⋯\n",
       " 1159 │ DEN                               23.5                    21.9667\n",
       " 1160 │ BWI                               23.8333                 22.3\n",
       " 1161 │ LAS                               23.0                    22.4667\n",
       " 1162 │ LAS                               23.0833                 22.4         ⋯\n",
       " 1163 │ DEN                               23.4167                 21.9667\n",
       " 1164 │ MDW                                0.333333               22.5833\n",
       "\u001b[36m                                                 5 columns and 1149 rows omitted\u001b[0m"
      ]
     },
     "metadata": {},
     "output_type": "display_data"
    }
   ],
   "source": [
    "nominal_dfs[1]"
   ]
  }
 ],
 "metadata": {
  "kernelspec": {
   "display_name": "Julia 1.9.2",
   "language": "julia",
   "name": "julia-1.9"
  },
  "language_info": {
   "file_extension": ".jl",
   "mimetype": "application/julia",
   "name": "julia",
   "version": "1.9.2"
  }
 },
 "nbformat": 4,
 "nbformat_minor": 2
}
